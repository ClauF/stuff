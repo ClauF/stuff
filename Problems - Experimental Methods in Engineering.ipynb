{
 "metadata": {
  "name": ""
 },
 "nbformat": 3,
 "nbformat_minor": 0,
 "worksheets": [
  {
   "cells": [
    {
     "cell_type": "heading",
     "level": 1,
     "metadata": {},
     "source": [
      "Problems - Experimental Methods in Engineering"
     ]
    },
    {
     "cell_type": "markdown",
     "metadata": {},
     "source": [
      "Marcos Duarte"
     ]
    },
    {
     "cell_type": "heading",
     "level": 2,
     "metadata": {},
     "source": [
      "Problem 1"
     ]
    },
    {
     "cell_type": "markdown",
     "metadata": {},
     "source": [
      "Consider the following experimental data collected in an experiment to measure the acceleration of gravity in Santo Andr\u00e9 (in m/s$^2$): [9.1, 9.6, 11.5, 10.9, 10.0, 8.1, 9.4, 7.2, 8.6, 10.4, 11.2, 10.0] with an experimental uncertainty in each measure of 0.5 m/s$^2$.   \n",
      "\u00a0\u00a0 a. Calculate mean, variance, standard deviation, standard error of the mean for these data.  \n",
      "\u00a0\u00a0 b. Make a histogram of these data and indicate the mean and standard deviation in the histogram.  \n",
      "\u00a0\u00a0 c. What are accuracy and precision? What values of item (a) can be used to describe something about accuracy and precision of the measurements above?   \n",
      "\u00a0\u00a0 d. What are confidence interval and prediction interval? Calculate these intervals with a probability of 95% for the above data (for simplification, consider that these data have normal distribution).   \n",
      "\u00a0\u00a0 e. What is the value (with uncertainty) that best represents these experimental measures?   "
     ]
    },
    {
     "cell_type": "markdown",
     "metadata": {},
     "source": [
      "**a.**   \n",
      "For a sample with normal distribution and $n$ data:\n",
      "\n",
      "$$ mean\\;(m) = \\frac{1}{n}\\sum_{i=1}^{n} x_i $$\n",
      "\n",
      "$$ variance\\;(s^2) = \\frac{1}{n-1}\\sum_{i=1}^{n} (x_i - \\bar{x})^2 $$\n",
      "\n",
      "$$ standard\\;deviation\\;(s) = \\sqrt{s^2} = \\sqrt{\\frac{1}{n-1}\\sum_{i=1}^{n}(x_i-\\bar{x})^2} $$\n",
      "\n",
      "$$ standard\\;error\\;of\\;the\\;mean\\;(se) = \\frac{s}{\\sqrt{n}} = \\sqrt{\\frac{1}{n(n-1)}\\sum_{i=1}^{n}(x_i-\\bar{x})^2} $$\n",
      "\n",
      "So, for the given data:"
     ]
    },
    {
     "cell_type": "code",
     "collapsed": false,
     "input": [
      "# Import the necessary libraries\n",
      "from __future__ import division, print_function\n",
      "import numpy as np\n",
      "from IPython.display import display, Math\n",
      "\n",
      "data = np.array([9.1, 9.6, 11.5, 10.9, 10.0, 8.1, 9.4, 7.2, 8.6, 10.4, 11.2, 10.0])\n",
      "m  = np.mean(data);         display(Math('m = %.2f \\; m/s^2' %m))\n",
      "s2 = np.var(data, ddof=1);  display(Math('s^2 = %.2f \\; m^2/s^4' %s2))\n",
      "s  = np.sqrt(s2);           display(Math('s = %.2f \\; m/s^2' %s))\n",
      "se = s/np.sqrt(data.size);  display(Math('se = %.2f \\; m/s^2' %se))"
     ],
     "language": "python",
     "metadata": {},
     "outputs": [
      {
       "latex": [
        "$$m = 9.67 \\; m/s^2$$"
       ],
       "metadata": {},
       "output_type": "display_data",
       "text": [
        "<IPython.core.display.Math at 0x439fa90>"
       ]
      },
      {
       "latex": [
        "$$s^2 = 1.64 \\; m^2/s^4$$"
       ],
       "metadata": {},
       "output_type": "display_data",
       "text": [
        "<IPython.core.display.Math at 0x439fa90>"
       ]
      },
      {
       "latex": [
        "$$s = 1.28 \\; m/s^2$$"
       ],
       "metadata": {},
       "output_type": "display_data",
       "text": [
        "<IPython.core.display.Math at 0x439fb70>"
       ]
      },
      {
       "latex": [
        "$$se = 0.37 \\; m/s^2$$"
       ],
       "metadata": {},
       "output_type": "display_data",
       "text": [
        "<IPython.core.display.Math at 0x439fb70>"
       ]
      }
     ],
     "prompt_number": 1
    },
    {
     "cell_type": "markdown",
     "metadata": {},
     "source": [
      "**b.**   \n",
      "From [Wikipedia](http://en.wikipedia.org/wiki/Histogram): Histogram is a graphical representation of the distribution of data. A histogram is a representation of tabulated frequencies, shown as adjacent rectangles, erected over discrete intervals (bins), with an area equal to the frequency of the observations in the interval. The height of a rectangle is also equal to the frequency density of the interval, i.e., the frequency divided by the width of the interval. The total area of the histogram is equal to the number of data.   \n",
      "So:"
     ]
    },
    {
     "cell_type": "code",
     "collapsed": false,
     "input": [
      "import matplotlib.pyplot as plt\n",
      "%matplotlib inline\n",
      "plt.xkcd()\n",
      "fig, ax = plt.subplots(1, 1, figsize=(6, 4))\n",
      "plt.hist(data, bins=6)\n",
      "ax.set_title('Histogram of the measurements')\n",
      "ax.set_xlabel('Gravity acceleration [m/s$^2$]')\n",
      "ax.set_ylabel('Frequency')\n",
      "ax.set_xlim(7, 12)\n",
      "ax.plot([m, m], [0, 4], 'r', linewidth=4, label='$m$')\n",
      "ax.plot([m-s, m-s], [0, 4], 'r--', linewidth=4)\n",
      "ax.plot([m+s, m+s], [0, 4], 'r--', linewidth=4, label='$m\\pm s$')\n",
      "ax.legend(loc='best', framealpha=.5)\n",
      "plt.show()"
     ],
     "language": "python",
     "metadata": {},
     "outputs": [
      {
       "metadata": {},
       "output_type": "display_data",
       "png": "[encoded data removed]",
       "text": [
        "<matplotlib.figure.Figure at 0x41ffcf8>"
       ]
      }
     ],
     "prompt_number": 2
    },
    {
     "cell_type": "markdown",
     "metadata": {},
     "source": [
      "**c.**   \n",
      "**Accuracy** of measurement is the closeness of the agreement between the result of a measurement and a true value of the measurand. Accuracy is a qualitative concept.   \n",
      "**Precision** of measurement is the closeness of the agreement between the results of measurements of the same measurand under similar conditions. Precision is a qualitative concept.\n",
      "\n",
      "The mean of the measurements should be used to describe the degree of accuracy of the measurements (if we adopt g=9.8 m/s$^2$ as the true value, we could say that the degree of accuracy (mean minus true value) of the measurements was -0.13 m/s$^2$.   \n",
      "The variance, standard deviation, and standard error of the mean can be used to describe the degree of precision of the measurements. Using the standard error of the mean (preferred in this case), the degree of precision of the measurements was 0.37 m/s$^2$.\n",
      "\n",
      "**d.**  \n",
      "**Confidence interval** for the mean is an estimate of an interval with a certain probability that the **mean of new values** will be inside this interval.   \n",
      "**Prediction interval** is an estimate of an interval with a certain probability that a **new value** will be inside this interval.\n",
      "\n",
      "For a probability of 95% and considering the data with normal distribution:"
     ]
    },
    {
     "cell_type": "code",
     "collapsed": false,
     "input": [
      "display(Math('Confidence\\;interval:\\;\\;[%.2f \\; , \\; %.2f]  \\; m/s^2' %(m-1.96*se, m+1.96*se)))\n",
      "display(Math('Prediction\\;interval:\\;\\;[%.2f \\; , \\; %.2f] \\; m/s^2' %(m-1.96*s, m+1.96*s)))"
     ],
     "language": "python",
     "metadata": {},
     "outputs": [
      {
       "latex": [
        "$$Confidence\\;interval:\\;\\;[8.94 \\; , \\; 10.39]  \\; m/s^2$$"
       ],
       "metadata": {},
       "output_type": "display_data",
       "text": [
        "<IPython.core.display.Math at 0x439fb00>"
       ]
      },
      {
       "latex": [
        "$$Prediction\\;interval:\\;\\;[7.15 \\; , \\; 12.18] \\; m/s^2$$"
       ],
       "metadata": {},
       "output_type": "display_data",
       "text": [
        "<IPython.core.display.Math at 0x439f860>"
       ]
      }
     ],
     "prompt_number": 3
    },
    {
     "cell_type": "markdown",
     "metadata": {},
     "source": [
      "**e.**   \n",
      "The value that best represents these experimental measures is the mean value and the correspondent uncertainty of the measurement. For a set of values with instrumental uncertainty, the total uncertainty is the square-root of the sum of squares of the statistical uncertainty (type A) and the instrumental uncertainty (type B):\n",
      "\n",
      "$$ u_g = \\sqrt{u_A^2 + u_B^2} $$\n",
      "\n",
      "The statistical uncertainty can be described by the standard error of the mean, so:\n",
      "\n",
      "$$ u_g = \\sqrt{0.37^2 + 0.5^2} $$"
     ]
    },
    {
     "cell_type": "code",
     "collapsed": false,
     "input": [
      "ug = np.sqrt(se**2 + 0.5**2)\n",
      "\n",
      "display(Math('g= %.2f \\pm %.2f \\; m/s^2' %(m, ug)))"
     ],
     "language": "python",
     "metadata": {},
     "outputs": [
      {
       "latex": [
        "$$g= 9.67 \\pm 0.62 \\; m/s^2$$"
       ],
       "metadata": {},
       "output_type": "display_data",
       "text": [
        "<IPython.core.display.Math at 0x439f9b0>"
       ]
      }
     ],
     "prompt_number": 4
    },
    {
     "cell_type": "heading",
     "level": 2,
     "metadata": {},
     "source": [
      "Problem 2"
     ]
    },
    {
     "cell_type": "markdown",
     "metadata": {},
     "source": [
      "Consider an experiment to measure the mass of an object using a scale with a tension spring. Without any mass on the scale, one reads 20 cm on the scale of the balance. Putting on the weighing plate an object with mass equals to 50 g, the reading on the scale is 25 cm. When you place a cube on the empty plate the reading is 40 cm. Adopt $g=10/;m/s^2$ (no uncertainty). Assuming that the two cases obeyed Hooke's Law,   \n",
      "\u00a0\u00a0 a. How much is the mass of the cube?  \n",
      "\u00a0\u00a0 b. Assuming that the uncertainties in the measurements of mass and displacement are 1%, estimate the uncertainty associated with the value of the mass determined in (a). "
     ]
    },
    {
     "cell_type": "markdown",
     "metadata": {},
     "source": [
      "**a.**   \n",
      "From Hooke's law:\n",
      "\n",
      "$$ F = P = mg = k \\Delta x $$\n",
      "\n",
      "Using the first case (known mass), we can obtain the stiffness constant of the spring: \n",
      "\n",
      "$$ k = \\frac{mg}{\\Delta x} = \\frac{0.05 \\times 10}{0.05} = 10 \\; N/m  $$\n",
      "\n",
      "In the second case the mass is unknown but we already know the spring stiffness:  \n",
      "\n",
      "$$ m_{cube} = \\frac{k \\Delta x}{g} = \\frac{10 \\times 0.2}{10} = 0.2 \\; kg  $$\n",
      "\n",
      "So, the mass of the cube is 0.2 kg.\n",
      "\n",
      "**b.**   \n",
      "The formula we used to estimate the mass of the cube was:\n",
      "\n",
      "$$ m_{cube} = \\frac{k\\Delta x}{g} $$\n",
      "\n",
      "The uncertainty of the mass of the cube can be estimated using error propagation:  \n",
      "\n",
      "$$ u_m^2 = \\left(\\frac{\\partial m}{\\partial k} u_k \\right)^2 + \\left(\\frac{\\partial m}{\\partial x} u_x \\right)^2 $$\n",
      "\n",
      "$$ u_m^2 =  \\left(\\frac{\\Delta x}{g} u_k \\right)^2 +  \\left(\\frac{k}{g} u_x \\right)^2 $$\n",
      "\n",
      "To estimate the uncertainty of $k$, we have to go back to the first case:\n",
      "\n",
      "$$ k = \\frac{mg}{\\Delta x}  $$\n",
      "\n",
      "$$ u_k^2 = \\left(\\frac{\\partial k}{\\partial m} u_m \\right)^2 + \\left(\\frac{\\partial k}{\\partial \\Delta x} u_x \\right)^2  $$\n",
      "\n",
      "$$ u_k^2 = \\left(\\frac{g}{\\Delta x} u_m \\right)^2 + \\left(-\\frac{mg}{\\Delta x^2}u_x\\right)^2 $$\n",
      "\n",
      "Where $g=10\\;m/s^2$, $m=50 \\; g$, $u_m = 0.01 \\times m = 0.5 \\; g$, $ \\Delta x = 5 \\; cm $, $u_x= 0.01 \\times \\Delta x = 0.05 \\; cm$, then:\n",
      "\n",
      "$$ u_k^2 = \\left(\\frac{10}{0.05} 0.0005 \\right)^2 + \\left(-\\frac{0.05 \\times 10}{0.05^2} 0.0005 \\right)^2 = 0.01 + 0.01 $$\n",
      "\n",
      "$$ u_k \\approx 0.1414 \\; N/m $$\n",
      "\n",
      "Back to the formula:\n",
      "\n",
      "$$ u_m^2 =  \\left(\\frac{\\Delta x}{g} u_k \\right)^2 +  \\left(\\frac{k}{g} u_x \\right)^2 $$\n",
      "\n",
      "Where now $\\Delta x = 20\\;cm, u_x = 0.01 \\times \\Delta x = 0.2 \\;cm$, then:\n",
      "\n",
      "$$ u_m^2= \\left(\\frac{0.20}{10} 0.1414\\right)^2 + \\left(\\frac{10}{10} 0.002 \\right)^2 \\approx 0.002828^2 + 0.002^2 $$\n",
      "\n",
      "$$ u_m \\approx 3.5.10^{-3} kg $$\n",
      "\n",
      "Then:\n",
      "\n",
      "$$ m_{cube} = (200.0 \\pm 3.5) \\times 10^{-3} \\; kg $$"
     ]
    },
    {
     "cell_type": "heading",
     "level": 2,
     "metadata": {},
     "source": [
      "Problem 3"
     ]
    },
    {
     "cell_type": "markdown",
     "metadata": {},
     "source": [
      "For the experiment of the previous question, consider the following experimental data to determine the elastic spring constant traction, $\\Delta x$ (cm): [0, 0.5, 2.5, 3, 3.5, 5.5], m (g): [0, 10, 20, 30, 40, 50]. The experimental uncertainties of these measures are not known (ignore them) and adopt g = 10 m/s$^2$ (no uncertainty). Consider the curve that best describes the relationship between the force on the spring versus its deformation is a straight line passing through the origin.  \n",
      "\u00a0\u00a0 a. Describe a method to determine the best straight line fit for experimental data.   \n",
      "\u00a0\u00a0 b. Derive mathematically straight line fit passing through the origin.   \n",
      "\u00a0\u00a0 c. Determine the equation of the straight line fit passing through the origin using the experimental data above."
     ]
    },
    {
     "cell_type": "markdown",
     "metadata": {},
     "source": [
      "**a.**  \n",
      "A classical solution to find the best fit is to minimize the sum of the squared differences between data points and the straight line function (y=bx), which is known as the least-squares fit.\n",
      "\n",
      "**b.**   \n",
      "The analytical expression for the least-square fit when the model function is a straight line passing trough zero is:\n",
      "\n",
      "$$ y(x) = y(x | b) = bx $$ \n",
      "\n",
      "We want to find $b$ such that minimizes the sum of the squared differences between data points and the y=bx function:\n",
      "\n",
      "$$ \\chi^2(b) = \\sum_{i=1}^{n} \\left[ y_i - bx_i \\right]^2 $$\n",
      "\n",
      "Using the property that at the minimum of $\\chi^2$ its derivative is zero:\n",
      "\n",
      "$$ \\frac{\\partial \\chi^2}{\\partial b} = -2 \\sum_{i=1}^{n} x_i(y_i - bx_i) = 0 $$\n",
      "\n",
      "So, the angular coefficient of the best straight line passing trough zero, $ y(x) = bx $, is:\n",
      "\n",
      "$$ b = \\frac{\\sum_{i=1}^{n} x_iy_i}{\\sum_{i=1}^{n} x_i^2} $$\n",
      "\n",
      "**c.**  \n",
      "For the given data:"
     ]
    },
    {
     "cell_type": "code",
     "collapsed": false,
     "input": [
      "x = np.array([0, 0.5, 2.5, 3, 3.5, 5.5])/100  # in m\n",
      "m = np.array([0, 10, 20, 30, 40, 50])/1000    # in kg\n",
      "b = np.sum(x*m*10)/np.sum(x*x)                # angular coefficient\n",
      "display(Math('F\\:[N] = %.2f \\; x\\:[m]' %b))"
     ],
     "language": "python",
     "metadata": {},
     "outputs": [
      {
       "latex": [
        "$$F\\:[N] = 9.66 \\; x\\:[m]$$"
       ],
       "metadata": {},
       "output_type": "display_data",
       "text": [
        "<IPython.core.display.Math at 0x4380cf8>"
       ]
      }
     ],
     "prompt_number": 5
    },
    {
     "cell_type": "heading",
     "level": 2,
     "metadata": {},
     "source": [
      "Problem 4"
     ]
    },
    {
     "cell_type": "markdown",
     "metadata": {},
     "source": [
      "Consider the following experimental data from a measurement of the time interval between the instant of the first and second impacts of an object with a surface (in ms): [723, 722, 715, 719, 716]. The uncertainty of each of these measures is 10 ms, the object was dropped from an initial height of 1 m (no uncertainty) and adopt g=10 m/s$^2$ (no uncertainty).   \n",
      "Determine the experimental value that best describes the coefficient of restitution using these data."
     ]
    },
    {
     "cell_type": "markdown",
     "metadata": {},
     "source": [
      "The coefficient of restitution is given by the following formula:\n",
      "\n",
      "$$ C_R = \\frac{velocity_{after}}{velocity_{before}}$$\n",
      "\n",
      "For a free falling object with zero initial velocity, if the time of fall is known, the velocity at the ground is given by:\n",
      "\n",
      "$$velocity = gt $$\n",
      "\n",
      "If the height of fall is known, the time of fall is given by:\n",
      "\n",
      "$$ t = \\sqrt{\\frac{2h}{g}} $$\n",
      "\n",
      "So, for the problem above, one solution is to determine the time of the first fall of the object and then determine its velocity at the first impact (with no uncertainty because the height of release and g have no uncertainties):"
     ]
    },
    {
     "cell_type": "code",
     "collapsed": false,
     "input": [
      "h   = 1                                         # in m\n",
      "t   = np.array([723, 722, 715, 719, 716])/1000  # in s\n",
      "t0  = np.sqrt(2*h/10)                    # time of the first fall \n",
      "v0  = 10*t0                              # velocity before first impact"
     ],
     "language": "python",
     "metadata": {},
     "outputs": [],
     "prompt_number": 6
    },
    {
     "cell_type": "markdown",
     "metadata": {},
     "source": [
      "With the five measurements of the time between first and second impacts, we determine the mean flight time (the time of fall will be half of that). The uncertainty of the time of fall will be the statistical uncertainty (type A) plus the instrumental uncertainty (type B). The standard error of the mean will be used as the statistical uncertainty:"
     ]
    },
    {
     "cell_type": "code",
     "collapsed": false,
     "input": [
      "tm  = np.mean(t)                         # mean flight time after first impact\n",
      "uta = np.std(t, ddof=1)/np.sqrt(t.size)  # standard error of the flight time (u type A)\n",
      "utb = 0.01                               # instrumental uncertainty (u type B) \n",
      "ut  = np.sqrt(uta**2 + utb**2)           # total uncertainty of the flight time"
     ],
     "language": "python",
     "metadata": {},
     "outputs": [],
     "prompt_number": 7
    },
    {
     "cell_type": "markdown",
     "metadata": {},
     "source": [
      "With this time of fall, we can determine the velocity the ball had just after the fist impact and finally calculate the coefficient of restitution:"
     ]
    },
    {
     "cell_type": "code",
     "collapsed": false,
     "input": [
      "v   = 10*tm/2                            # velocity after first impact\n",
      "uv  = (ut/tm)*v                          # velocity uncertainty by error propagation\n",
      "Cr  = v/v0                               # coefficient of restitution\n",
      "uCr = (uv/v)*Cr                          # uncertainty (because v0 has no uncertainty)\n",
      "\n",
      "display(Math(r' C_R = %.3f \\pm %.3f' %(Cr, uCr)))"
     ],
     "language": "python",
     "metadata": {},
     "outputs": [
      {
       "latex": [
        "$$ C_R = 0.804 \\pm 0.011$$"
       ],
       "metadata": {},
       "output_type": "display_data",
       "text": [
        "<IPython.core.display.Math at 0x439fe10>"
       ]
      }
     ],
     "prompt_number": 8
    }
   ],
   "metadata": {}
  }
 ]
}